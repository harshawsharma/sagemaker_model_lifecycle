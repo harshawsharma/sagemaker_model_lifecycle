{
 "cells": [
  {
   "cell_type": "markdown",
   "metadata": {},
   "source": [
    "#  Immersion Day Lab - Bring your own Algorithim Container\n",
    "\n",
    "\n",
    "With Amazon SageMaker, you can package your own algorithms that can be trained and deployed in the SageMaker environment. This notebook will guide you through an example that shows you how to use a Docker container for training and inference."
   ]
  },
  {
   "cell_type": "markdown",
   "metadata": {
    "nbpresent": {
     "id": "57f82d34-4139-48d0-9069-a764479e13d9"
    },
    "slideshow": {
     "slide_type": "notes"
    }
   },
   "source": [
    "\n",
    "[Prerequisite - Permissions](#Prerequisite---Permissions)<br>\n",
    "[About the Dataset](#About-the-Dataset)\n",
    "\n",
    "1. [Part 1: Training and Hosting your Algorithm in Amazon SageMaker](#Part-2:-Training-and-Hosting-your-Algorithm-in-Amazon-SageMaker)\n",
    "  1. [Set up the environment](#Set-up-the-environment)\n",
    "  1. [Create the session](#Create-the-session)\n",
    "  1. [Create Variables](#Create-Variables)\n",
    "  1. [Upload the data for training](#Upload-the-data-for-training)\n",
    "  1. [Create an estimator](#Create-an-estimator)\n",
    "  1. [Fit the model](#Fit-the-model)\n",
    "  1. [Deploy the model](#Deploy-the-model)\n",
    "  1. [Perform Prediction](#Perform-Prediction)\n",
    "  1. [Optional cleanup](#Optional-cleanup)<br>\n",
    "  <br>\n",
    "\n",
    "1. [Part 2: Granular Endpoint Deployment](#Part-3:-Granular-Endpoint-Deployment)\n",
    "\n",
    "  1. [Create Model](#Create-Model)\n",
    "  1. [Define Endpoint Configuration - Production Variant](#Define-Endpoint-Configuration---Production-Variant)\n",
    "  1. [Deploy Endpoint](#Deploy-Endpoint)\n",
    "  1. [Prediction](#Prediction)\n",
    "  1. [Optional Delete Endpoint](#Optional-Delete-Endpoint)  \n",
    "<br>\n",
    "1. [Part 3: Miscellaneous](#Part-4:-Miscellaneous)\n",
    "    1. [Other ways to perform prediction to the deployed endpoint](#Other-ways-to-perform-prediction-to-the-deployed-endpoint)\n",
    "    1. [Update an existing Endpoint's weight](#Update-an-existing-Endpoint's-weight)\n",
    "    1. [Check an existing Endpoint's status](#Check-an-existing-Endpoint's-status)\n",
    "    1. [Update an existing Endpoint](#Update-an-existing-Endpoint)"
   ]
  },
  {
   "cell_type": "markdown",
   "metadata": {},
   "source": [
    "## Prerequisite - Permissions\n",
    "\n",
    "Running this notebook requires permissions in addition to the normal SageMakerFullAccess permissions. This is because we'll creating new repositories in Amazon ECR. The easiest way to add these permissions is simply to add the managed policy **AmazonEC2ContainerRegistryFullAccess** to the role that you used to start your notebook instance. There's no need to restart your notebook instance when you do this, the new permissions will be available immediately."
   ]
  },
  {
   "cell_type": "markdown",
   "metadata": {},
   "source": [
    "## About the Dataset\n",
    "\n",
    "We will be building a publicly available Tensorflow model [example](https://github.com/tensorflow/models/tree/master/official/wide_deep/) in our containers and deploying it to an endpoint for inference. In this tutorial, we will use the tf.estimator API in TensorFlow to solve a binary classification problem: Given census data about a person such as age, education, marital status, and occupation (the features), we will try to predict whether or not the person earns more than 50,000 dollars a year (the target label). \n",
    "\n",
    "The point of this exercise is to show the surrounding structure that you'll want to add to your own code so you can train and host it in Amazon SageMaker. The ideas shown here will work in any language or environment."
   ]
  },
  {
   "cell_type": "markdown",
   "metadata": {
    "nbpresent": {
     "id": "40a4e9c5-b743-4277-a2cd-a55f0c3bad85"
    },
    "slideshow": {
     "slide_type": "slide"
    }
   },
   "source": [
    "# Part 1: Training and Hosting your Algorithm in Amazon SageMaker\n",
    "\n",
    "Once you have both your container packaged and pushed to the ECR repository, you can use them to train and serve models, which we will be discussing in this section.\n",
    "\n",
    "## Set up the environment\n",
    "\n",
    "### Create Session\n",
    "We begin by setting up the role that will be used by the sagemaker sdk for its calls. We are using the role that the notebook instance was launched with. \n",
    "The session object we invoke remembers our connection parameters to SageMaker. We'll use it to perform all of our SageMaker operations."
   ]
  },
  {
   "cell_type": "code",
   "execution_count": null,
   "metadata": {
    "collapsed": true,
    "nbpresent": {
     "id": "672ae2a9-4d92-4f17-9fb9-07980644260a"
    },
    "slideshow": {
     "slide_type": "slide"
    }
   },
   "outputs": [],
   "source": [
    "from sagemaker import get_execution_role\n",
    "from sagemaker import session\n",
    "\n",
    "role = get_execution_role()\n",
    "sess = session.Session()\n",
    "print(role)"
   ]
  },
  {
   "cell_type": "markdown",
   "metadata": {
    "nbpresent": {
     "id": "527d096d-2ffc-417a-9741-e1e36d1cbc30"
    },
    "slideshow": {
     "slide_type": "slide"
    }
   },
   "source": [
    "## Create Variables \n",
    "Next, we will declare the ECR repository that we had pushed to earlier. You will also specify the bucket locations where your have your training data uploaded and, where you would like for your output to be stored. The repository and the buckets should be in the same region as this notebook. We will also name our Training Job and Endpoint Resources.<br><br>\n",
    "\n",
    "We will reference all the declared variables and pass them in as arugments to the required API calls."
   ]
  },
  {
   "cell_type": "code",
   "execution_count": null,
   "metadata": {
    "collapsed": true,
    "nbpresent": {
     "id": "f4a391d0-9c56-4568-a5b3-e871c0b09ddb"
    },
    "slideshow": {
     "slide_type": "slide"
    }
   },
   "outputs": [],
   "source": [
    "import datetime\n",
    "current_time = datetime.datetime.now()\n",
    "current_time = current_time.strftime('%Y-%m-%d-%H-%M')\n",
    "\n",
    "#ECR repo name created in the earlier lab\n",
    "ecr_repository_name='YOUR_CONTAINER_NAME'\n",
    "\n",
    "#fetch account number and region name that the notebook instance is running in.\n",
    "account_num = sess.boto_session.client('sts').get_caller_identity()['Account']\n",
    "region_name = sess.boto_session.region_name\n",
    "\n",
    "#construct ECR URI\n",
    "training_image = '{}.dkr.ecr.{}.amazonaws.com/{}'.format(account_num, region_name, ecr_repository_name)\n",
    "serving_image = '{}.dkr.ecr.{}.amazonaws.com/{}'.format(account_num, region_name, ecr_repository_name)\n",
    "\n",
    "#training and model buckets\n",
    "training_data_location_s3 = 's3://YOUR_BUCKET/KEY_PREFIX'\n",
    "model_output_location_s3 = 's3://YOUR_BUCKET/KEY_PREFIX'\n",
    "\n",
    "#Resources Name\n",
    "training_job_name = \"training-{}-{}\".format (ecr_repository_name.replace (\"_\", \"-\"), current_time)\n",
    "model_name = \"model-{}-{}\".format (ecr_repository_name.replace (\"_\", \"-\"), current_time)\n",
    "endpoint_name = \"endpoint-{}-{}\".format (ecr_repository_name.replace (\"_\", \"-\"), current_time)\n",
    "\n",
    "print (training_job_name, model_name, endpoint_name)"
   ]
  },
  {
   "cell_type": "markdown",
   "metadata": {
    "nbpresent": {
     "id": "79f5095f-fb0b-4387-a500-811726c975ff"
    },
    "slideshow": {
     "slide_type": "slide"
    }
   },
   "source": [
    "## Create an estimator\n",
    "\n",
    "In order to use SageMaker to fit our algorithm, we'll create an `Estimator` that defines how to use the container to  train. Estimators encapsulate training on Sagemaker."
   ]
  },
  {
   "cell_type": "code",
   "execution_count": null,
   "metadata": {
    "collapsed": true,
    "nbpresent": {
     "id": "a547cb65-dda3-4890-a1d6-e42b313c8b76"
    },
    "slideshow": {
     "slide_type": "slide"
    }
   },
   "outputs": [],
   "source": [
    "from sagemaker import estimator\n",
    "census_estimator = estimator.Estimator(image_name = training_image,\n",
    "                                       role = role, \n",
    "                                       train_instance_count = 1, \n",
    "                                       train_instance_type = 'ml.m4.xlarge',\n",
    "                                       output_path = model_output_location_s3, \n",
    "                                       sagemaker_session = sess\n",
    "                                      )"
   ]
  },
  {
   "cell_type": "markdown",
   "metadata": {
    "nbpresent": {
     "id": "c6fc96e9-8692-4cc1-9c6c-8977e3e5f8f0"
    },
    "slideshow": {
     "slide_type": "slide"
    }
   },
   "source": [
    "We also set the hyperparameters that will be saved on the container in /opt/ml/input/config/hyperparameters.json. The 'train' code will use these parameters during training."
   ]
  },
  {
   "cell_type": "code",
   "execution_count": null,
   "metadata": {
    "collapsed": true,
    "nbpresent": {
     "id": "a3e7a4e7-5db4-4a0f-85ca-b2ecc03866e7"
    },
    "slideshow": {
     "slide_type": "slide"
    }
   },
   "outputs": [],
   "source": [
    "#set hyperparameters to be passed to the training job\n",
    "census_estimator.set_hyperparameters(test_data=\"/opt/ml/input/data/training/test_data.csv\",\n",
    "                                     train_data=\"/opt/ml/input/data/training/train_data.csv\",\n",
    "                                     model_type= \"wide\",\n",
    "                                     train_epochs=10,\n",
    "                                     epochs_per_eval=2,\n",
    "                                     batch_size=40\n",
    "                                    )\n",
    "\n",
    "#check to see if the hyperparameters are set as expected\n",
    "census_estimator.hyperparameters()"
   ]
  },
  {
   "cell_type": "markdown",
   "metadata": {
    "nbpresent": {
     "id": "43900927-dbae-4b7e-8900-0a0a1714ce0b"
    },
    "slideshow": {
     "slide_type": "slide"
    }
   },
   "source": [
    "## Fit the model\n",
    "\n",
    "We use fit() on the estimator to train against the arguments that we declared above."
   ]
  },
  {
   "cell_type": "code",
   "execution_count": null,
   "metadata": {
    "collapsed": true,
    "nbpresent": {
     "id": "297b94b4-c3ef-4784-922c-911b1d07396e"
    },
    "slideshow": {
     "slide_type": "slide"
    }
   },
   "outputs": [],
   "source": [
    "%%time\n",
    "census_estimator.fit(training_data_location_s3, job_name=training_job_name)\n"
   ]
  },
  {
   "cell_type": "markdown",
   "metadata": {
    "nbpresent": {
     "id": "daa06c04-ed79-488c-8d86-518d8f843cf0"
    },
    "slideshow": {
     "slide_type": "slide"
    }
   },
   "source": [
    "## Deploy the Model\n",
    "\n",
    "Deploying the model to SageMaker as an endpoint just requires a `deploy` call on the fitted model. This single call behind the scenes creates three Sagemaker resources i.e. 'Model', 'Endpoint Configuration' and the actual 'Endpoint' itself."
   ]
  },
  {
   "cell_type": "code",
   "execution_count": null,
   "metadata": {
    "collapsed": true,
    "nbpresent": {
     "id": "0cd8bf53-aaab-44b3-8d41-d9fc8f0f1d07"
    },
    "slideshow": {
     "slide_type": "slide"
    }
   },
   "outputs": [],
   "source": [
    "%%time\n",
    "predictor = census_estimator.deploy(instance_type='ml.m4.xlarge',\n",
    "                                    initial_instance_count=1,\n",
    "                                    endpoint_name=endpoint_name,\n",
    "                                    image=serving_image,\n",
    "                                    name=model_name\n",
    "                                   )\n"
   ]
  },
  {
   "cell_type": "markdown",
   "metadata": {
    "nbpresent": {
     "id": "3774db09-cb03-4491-b920-be1d7af97e2a"
    },
    "slideshow": {
     "slide_type": "slide"
    }
   },
   "source": [
    "## Perform prediction\n",
    "\n",
    "In order to do some predictions, we'll randomly use a single csv from our test data. Prediction is as easy as calling predict with the predictor we got back from deploy and the data we want to do predictions with."
   ]
  },
  {
   "cell_type": "code",
   "execution_count": null,
   "metadata": {
    "collapsed": true,
    "nbpresent": {
     "id": "90695e13-f82e-4da9-a5a3-bef2184e11d0"
    },
    "slideshow": {
     "slide_type": "slide"
    }
   },
   "outputs": [],
   "source": [
    "prediction_input = ('38,Private,89814,HS-grad,9,Married-civ-spouse,Farming-fishing,Husband,White,Male,0,0,50,United-States,unknown')\n",
    "print(predictor.predict(prediction_input))"
   ]
  },
  {
   "cell_type": "code",
   "execution_count": null,
   "metadata": {
    "collapsed": true
   },
   "outputs": [],
   "source": [
    "prediction_input = ('40,Private,85019,Doctorate,16,Married-civ-spouse,Prof-specialty,Husband,Asian-Pac-Islander,Male,0,0,45,?,unknown')\n",
    "print(predictor.predict(prediction_input))"
   ]
  },
  {
   "cell_type": "markdown",
   "metadata": {
    "nbpresent": {
     "id": "fdec3072-61de-4e47-8968-225f2d75acc7"
    },
    "slideshow": {
     "slide_type": "slide"
    }
   },
   "source": [
    "## Optional cleanup\n",
    "\n",
    "Unlike the training job instances which get deleted automatically post job completion, the endpoints that are deployed for prediction/serving continue running until terminated, incurring costs. The following deletes the endpoint and the backend instances. "
   ]
  },
  {
   "cell_type": "code",
   "execution_count": null,
   "metadata": {
    "collapsed": true,
    "nbpresent": {
     "id": "d1b9fb7a-f755-4ccd-bf39-bd61104896ec"
    },
    "slideshow": {
     "slide_type": "slide"
    }
   },
   "outputs": [],
   "source": [
    "sess.delete_endpoint(predictor.endpoint)"
   ]
  },
  {
   "cell_type": "markdown",
   "metadata": {
    "nbpresent": {
     "id": "86d5bf7e-0440-4aac-a449-c4c146d3d0dc"
    },
    "slideshow": {
     "slide_type": "notes"
    }
   },
   "source": [
    "--------------------------------------------------------------------------------------------------------\n",
    "--"
   ]
  },
  {
   "cell_type": "markdown",
   "metadata": {
    "nbpresent": {
     "id": "7e36c857-d692-485b-802e-4fdaee248223"
    },
    "slideshow": {
     "slide_type": "slide"
    }
   },
   "source": [
    "# Part 3: Granular Endpoint Deployment \n",
    "## Creating Model, Endpoint Configuration and Endpoint\n",
    "\n",
    "Although extremely convenient, the [deploy](#Deploy-the-Model) step we performed earlier, created three resources Model-EndpointConfiguration-Endpoint in just a single step. In this section we will be using the 'session' function in the sagemaker sdk to create a new endpoint but with more options. Along the way we will create a new endpoint with two production variants with different weights and instance counts."
   ]
  },
  {
   "cell_type": "code",
   "execution_count": null,
   "metadata": {
    "collapsed": true
   },
   "outputs": [],
   "source": [
    "import datetime\n",
    "current_time = datetime.datetime.now()\n",
    "current_time = current_time.strftime('%Y-%m-%d-%H-%M')\n",
    "\n",
    "\n",
    "new_model_name = \"model-\" + current_time\n",
    "new_endpoint_name = \"endpoint-\" + current_time"
   ]
  },
  {
   "cell_type": "markdown",
   "metadata": {
    "nbpresent": {
     "id": "6ad3e3dd-16e3-4acb-aa1f-b409a7cbe0de"
    },
    "slideshow": {
     "slide_type": "slide"
    }
   },
   "source": [
    "## Create Model\n",
    "To save time, we will reuse the training job that we ran earlier to create a new Model:"
   ]
  },
  {
   "cell_type": "code",
   "execution_count": null,
   "metadata": {
    "collapsed": true,
    "nbpresent": {
     "id": "cf5e6770-78c6-4f60-821f-80e7dae24dea"
    },
    "slideshow": {
     "slide_type": "slide"
    }
   },
   "outputs": [],
   "source": [
    "sess.create_model_from_job(name = new_model_name,\n",
    "                           role = role,\n",
    "                           primary_container_image = serving_image,\n",
    "                           training_job_name = training_job_name\n",
    "                          )"
   ]
  },
  {
   "cell_type": "markdown",
   "metadata": {
    "nbpresent": {
     "id": "a18acad0-1fb4-49c0-88cf-96eabe6108d6"
    },
    "slideshow": {
     "slide_type": "slide"
    }
   },
   "source": [
    "## Define Endpoint Configuration - Production Variant\n",
    "\n",
    "### A/B Testing\n",
    "\n",
    "We define Production Variants that will define our endpoint configuration.   \n",
    "<br>The Variant Weight you specify defines how much traffic you want to allocate to each model. For example, suppose that you want to host two models, A and B, and you assign traffic weight 2 for model A and 1 for model B. Amazon SageMaker distributes two-thirds of the traffic to Model A, and one-third to model B."
   ]
  },
  {
   "cell_type": "code",
   "execution_count": null,
   "metadata": {
    "collapsed": true,
    "nbpresent": {
     "id": "2feeafa7-380e-4d53-a0c1-1e68d6c8e809"
    },
    "slideshow": {
     "slide_type": "slide"
    }
   },
   "outputs": [],
   "source": [
    "variant_A = session.production_variant(variant_name = 'Current-Production-Variant',\n",
    "                                          model_name = model_name, #model we created using estimator earlier\n",
    "                                          instance_type = 'ml.m4.xlarge', \n",
    "                                          initial_instance_count = 1, \n",
    "                                          initial_weight = 1\n",
    "                                      )\n",
    "variant_B = session.production_variant(variant_name = 'To-be-Production-Variant',\n",
    "                                          model_name = new_model_name, #new model that we have built for testing\n",
    "                                          instance_type = 'ml.m4.xlarge', \n",
    "                                          initial_instance_count = 1, \n",
    "                                          initial_weight = 2  #sending more traffic towards this model \n",
    "                                         )"
   ]
  },
  {
   "cell_type": "markdown",
   "metadata": {},
   "source": [
    "## Deploy Endpoint \n",
    "\n",
    "This step finally deploys the endpoint with our desired configuration defined in the previous step."
   ]
  },
  {
   "cell_type": "code",
   "execution_count": null,
   "metadata": {
    "collapsed": true,
    "nbpresent": {
     "id": "94962bba-082e-4e03-b65e-4b90a9fb3fce"
    },
    "slideshow": {
     "slide_type": "slide"
    }
   },
   "outputs": [],
   "source": [
    "sess.endpoint_from_production_variants(name = new_endpoint_name,\n",
    "                                       production_variants= [variant_A, variant_B],\n",
    "                                       wait = True\n",
    "                                      )"
   ]
  },
  {
   "cell_type": "markdown",
   "metadata": {},
   "source": [
    "## Prediction\n",
    "\n",
    "As you are not using the Estimator class to deploy your model, you will not be able to use the predictor we used in our previous predictions. Instead, we will test the deployed endpoint directly using the low level aws cli. The [Miscellaneous](#Part-4:-Miscellaneous) section on this notebook shows a few sample commands to do so."
   ]
  },
  {
   "cell_type": "markdown",
   "metadata": {
    "nbpresent": {
     "id": "c0d1a8fa-d4b4-4dec-ab72-fe3357e986a2"
    },
    "slideshow": {
     "slide_type": "slide"
    }
   },
   "source": [
    "# Part 4: Miscellaneous\n",
    "\n",
    "## Other ways to perform prediction to the deployed endpoint\n",
    "\n",
    "The [InvokeEndpoint](https://docs.aws.amazon.com/sagemaker/latest/dg/API_runtime_InvokeEndpoint.html) requires AWS [SigV4](https://docs.aws.amazon.com/general/latest/gr/signature-version-4.html) authentication for model access security. The aws cli needs to be configured on your lcoal machine with atleast access to InvokeEndPoint API. Some sample commands that can be run from your local machine to test:\n",
    "\n",
    "- **Using aws cli**<br>\n",
    "aws sagemaker-runtime invoke-endpoint --endpoint-name Census-TensorFlow-Production --body “$ENTER PATH TO TEXT FILE THAT HOLDS SINGLE TEST DATA(INSIDE QUOTES)” --content-type \"application/text\"\n",
    "\n",
    "\n",
    "- **Using [awscurl](https://github.com/okigan/awscurl)**<br>\n",
    "awscurl --service sagemaker --region us-east-1 -X POST -d @$TEXT FILE THAT HOLDS THE SINGLE TEST DATA -H \"Accept: application/json\" -H \"Content-Type: application/text\" https://runtime.sagemaker.us-east-1.amazonaws.com/endpoints/Census-TensorFlow-Production/invocations\n"
   ]
  },
  {
   "cell_type": "markdown",
   "metadata": {},
   "source": [
    "## Check an existing Endpoint's status\n",
    "\n",
    "Returns the description of an endpoint. Use this to check the status of the updates being made to the endpoint(Updating|InService)"
   ]
  },
  {
   "cell_type": "code",
   "execution_count": null,
   "metadata": {
    "collapsed": true
   },
   "outputs": [],
   "source": [
    "import pprint\n",
    "import boto3\n",
    "client = boto3.client('sagemaker')\n",
    "\n",
    "response = client.describe_endpoint(\n",
    "    EndpointName=new_endpoint_name\n",
    ")\n",
    "pprint.pprint(response)"
   ]
  },
  {
   "cell_type": "markdown",
   "metadata": {},
   "source": [
    "## Update an existing Endpoint's weight\n",
    "\n",
    "Updates variant weight of one or more variants associated with an existing endpoint, or capacity of one variant associated with an existing endpoint. When it receives the request, Amazon SageMaker sets the endpoint status to Updating . After updating the endpoint, it sets the status to InService ."
   ]
  },
  {
   "cell_type": "code",
   "execution_count": null,
   "metadata": {
    "collapsed": true
   },
   "outputs": [],
   "source": [
    "import pprint\n",
    "import boto3\n",
    "client = boto3.client('sagemaker')\n",
    "\n",
    "response = client.update_endpoint_weights_and_capacities(\n",
    "    EndpointName=new_endpoint_name,\n",
    "    DesiredWeightsAndCapacities=[\n",
    "        {'VariantName': 'Current-Production-Variant',\n",
    "         'DesiredWeight': 1.0\n",
    "        },\n",
    "        {'VariantName': 'To-be-Production-Variant',\n",
    "         'DesiredWeight': 1.0         \n",
    "        }\n",
    "    ]\n",
    ")\n",
    "pprint.pprint(response)"
   ]
  },
  {
   "cell_type": "markdown",
   "metadata": {},
   "source": [
    "## Update an existing Endpoint\n",
    "\n",
    "After testing, when you have decided to go ahead with an endpoint configuration into production, you can update the endpoint to switch to use the newly created EndpointConfig, and then delete resources provisioned for the endpoint using the previous EndpointConfig (there is no availability loss).\n"
   ]
  },
  {
   "cell_type": "code",
   "execution_count": null,
   "metadata": {
    "collapsed": true
   },
   "outputs": [],
   "source": [
    "import pprint\n",
    "import boto3\n",
    "client = boto3.client('sagemaker')\n",
    "\n",
    "response = client.update_endpoint(\n",
    "    EndpointName=new_endpoint_name,\n",
    "    EndpointConfigName=''\n",
    ")\n",
    "\n",
    "pprint.pprint(response)\n"
   ]
  },
  {
   "cell_type": "markdown",
   "metadata": {},
   "source": [
    "## Optional Delete Endpoint\n",
    "\n",
    "The following deletes the endpoint and the backend instances. "
   ]
  },
  {
   "cell_type": "code",
   "execution_count": null,
   "metadata": {
    "collapsed": true
   },
   "outputs": [],
   "source": [
    "sess.delete_endpoint(endpoint_name=new_endpoint_name)"
   ]
  }
 ],
 "metadata": {
  "kernelspec": {
   "display_name": "conda_tensorflow_p27",
   "language": "python",
   "name": "conda_tensorflow_p27"
  },
  "language_info": {
   "codemirror_mode": {
    "name": "ipython",
    "version": 2
   },
   "file_extension": ".py",
   "mimetype": "text/x-python",
   "name": "python",
   "nbconvert_exporter": "python",
   "pygments_lexer": "ipython2",
   "version": "2.7.11"
  },
  "nbpresent": {
   "slides": {
    "0abe45cb-8baf-4de4-9e2f-23423e2e991f": {
     "id": "0abe45cb-8baf-4de4-9e2f-23423e2e991f",
     "prev": "f9eed5e3-5921-47cb-bc54-8cfb539ff997",
     "regions": {
      "410fa34b-cb2b-4476-a08a-54470b592c28": {
       "attrs": {
        "height": 0.8,
        "width": 0.8,
        "x": 0.1,
        "y": 0.1
       },
       "content": {
        "cell": "94962bba-082e-4e03-b65e-4b90a9fb3fce",
        "part": "whole"
       },
       "id": "410fa34b-cb2b-4476-a08a-54470b592c28"
      }
     }
    },
    "0d497f1e-faf4-455a-879e-a8cd0247ec24": {
     "id": "0d497f1e-faf4-455a-879e-a8cd0247ec24",
     "prev": "89b89e2c-e82a-4609-b609-3073b30516c7",
     "regions": {
      "a5457a93-2a38-4ce2-9ce1-20fbf9023e87": {
       "attrs": {
        "height": 0.8,
        "width": 0.8,
        "x": 0.1,
        "y": 0.1
       },
       "content": {
        "cell": "cf5e6770-78c6-4f60-821f-80e7dae24dea",
        "part": "whole"
       },
       "id": "a5457a93-2a38-4ce2-9ce1-20fbf9023e87"
      }
     }
    },
    "0d61e829-4aa8-4825-982e-7a3a681f9361": {
     "id": "0d61e829-4aa8-4825-982e-7a3a681f9361",
     "prev": "3ee94c23-ab32-4a21-986d-3424f959ec76",
     "regions": {
      "c801f0de-3b00-4181-9d02-f9fdb16695cc": {
       "attrs": {
        "height": 0.8,
        "width": 0.8,
        "x": 0.1,
        "y": 0.1
       },
       "content": {
        "cell": "2e26f91c-b6bd-4706-a08f-cbe6a8320d1a",
        "part": "whole"
       },
       "id": "c801f0de-3b00-4181-9d02-f9fdb16695cc"
      }
     }
    },
    "0f089341-0c6a-45a6-8ba9-47c04e480849": {
     "id": "0f089341-0c6a-45a6-8ba9-47c04e480849",
     "prev": "0abe45cb-8baf-4de4-9e2f-23423e2e991f",
     "regions": {
      "a3acb15f-8269-43e2-a80a-822665ab737c": {
       "attrs": {
        "height": 0.8,
        "width": 0.8,
        "x": 0.1,
        "y": 0.1
       },
       "content": {
        "cell": "f21d8efa-1984-45f0-82e4-749bf552bc61",
        "part": "whole"
       },
       "id": "a3acb15f-8269-43e2-a80a-822665ab737c"
      }
     }
    },
    "118562ba-67a5-4d95-b263-ea63ff1e5523": {
     "id": "118562ba-67a5-4d95-b263-ea63ff1e5523",
     "prev": "b866306c-703a-47bd-aeee-b527dbda1162",
     "regions": {
      "80f386d0-5dcf-4261-9e9f-9dd2cf1e18b5": {
       "attrs": {
        "height": 0.8,
        "width": 0.8,
        "x": 0.1,
        "y": 0.1
       },
       "content": {
        "cell": "90695e13-f82e-4da9-a5a3-bef2184e11d0",
        "part": "whole"
       },
       "id": "80f386d0-5dcf-4261-9e9f-9dd2cf1e18b5"
      }
     }
    },
    "1643332c-e86e-4299-a693-6237916ef8ef": {
     "id": "1643332c-e86e-4299-a693-6237916ef8ef",
     "prev": "efc1747f-03c3-4fb1-9a1c-81601e08b6d4",
     "regions": {
      "652e19f0-cc30-46e1-b13e-12ead753c1f2": {
       "attrs": {
        "height": 0.8,
        "width": 0.8,
        "x": 0.1,
        "y": 0.1
       },
       "content": {
        "cell": "43900927-dbae-4b7e-8900-0a0a1714ce0b",
        "part": "whole"
       },
       "id": "652e19f0-cc30-46e1-b13e-12ead753c1f2"
      }
     }
    },
    "1f2f6998-5ec7-4e19-aee7-75b9f1e84817": {
     "id": "1f2f6998-5ec7-4e19-aee7-75b9f1e84817",
     "prev": null,
     "regions": {
      "608949d0-3dfe-45d9-8d06-1b6b4dbc5210": {
       "attrs": {
        "height": 0.8,
        "width": 0.8,
        "x": 0.1,
        "y": 0.1
       },
       "content": {
        "cell": "57f82d34-4139-48d0-9069-a764479e13d9",
        "part": "whole"
       },
       "id": "608949d0-3dfe-45d9-8d06-1b6b4dbc5210"
      }
     }
    },
    "257b6241-d04f-4c66-9545-31f8b9c3b468": {
     "id": "257b6241-d04f-4c66-9545-31f8b9c3b468",
     "prev": "76c9ca27-af7d-40a2-8295-2c534425dc59",
     "regions": {
      "1f8d10b3-a18e-43d3-b735-e4bed96fbd23": {
       "attrs": {
        "height": 0.8,
        "width": 0.8,
        "x": 0.1,
        "y": 0.1
       },
       "content": {
        "cell": "0cd8bf53-aaab-44b3-8d41-d9fc8f0f1d07",
        "part": "whole"
       },
       "id": "1f8d10b3-a18e-43d3-b735-e4bed96fbd23"
      }
     }
    },
    "29be77aa-2e95-4904-82f6-1c41e76dffff": {
     "id": "29be77aa-2e95-4904-82f6-1c41e76dffff",
     "prev": "118562ba-67a5-4d95-b263-ea63ff1e5523",
     "regions": {
      "93b46131-eb93-49a6-8d68-2a791f5f787a": {
       "attrs": {
        "height": 0.8,
        "width": 0.8,
        "x": 0.1,
        "y": 0.1
       },
       "content": {
        "cell": "c0d1a8fa-d4b4-4dec-ab72-fe3357e986a2",
        "part": "whole"
       },
       "id": "93b46131-eb93-49a6-8d68-2a791f5f787a"
      }
     }
    },
    "2a8617e7-891f-48dd-a941-72c8278061e1": {
     "id": "2a8617e7-891f-48dd-a941-72c8278061e1",
     "prev": "d0037263-c1d7-467a-94e7-b454cf9dc12c",
     "regions": {
      "46da730b-d799-4a4d-871b-95b2b2520a8e": {
       "attrs": {
        "height": 0.8,
        "width": 0.8,
        "x": 0.1,
        "y": 0.1
       },
       "content": {
        "cell": "65d3f5e5-f581-4263-ae43-94cee643f30d",
        "part": "whole"
       },
       "id": "46da730b-d799-4a4d-871b-95b2b2520a8e"
      }
     }
    },
    "34012049-8ffb-486a-b50f-f5659697c2f5": {
     "id": "34012049-8ffb-486a-b50f-f5659697c2f5",
     "prev": "42c6f80c-a9dc-4688-aff1-c4274dde0a61",
     "regions": {
      "a4116e27-47df-4110-9ea6-9d0ce1903aa7": {
       "attrs": {
        "height": 0.8,
        "width": 0.8,
        "x": 0.1,
        "y": 0.1
       },
       "content": {
        "cell": "86d5bf7e-0440-4aac-a449-c4c146d3d0dc",
        "part": "whole"
       },
       "id": "a4116e27-47df-4110-9ea6-9d0ce1903aa7"
      }
     }
    },
    "3a9e736a-49ba-413a-bd23-df01fb41fcf1": {
     "id": "3a9e736a-49ba-413a-bd23-df01fb41fcf1",
     "prev": "b221f7b7-6283-411c-ac1b-628c1988644d",
     "regions": {
      "71e1ddd4-b374-48ac-b710-33ab10a92831": {
       "attrs": {
        "height": 0.8,
        "width": 0.8,
        "x": 0.1,
        "y": 0.1
       },
       "content": {
        "cell": "672ae2a9-4d92-4f17-9fb9-07980644260a",
        "part": "whole"
       },
       "id": "71e1ddd4-b374-48ac-b710-33ab10a92831"
      }
     }
    },
    "3ec29cb2-9a49-40cd-a229-bba519141d6f": {
     "id": "3ec29cb2-9a49-40cd-a229-bba519141d6f",
     "prev": "0d497f1e-faf4-455a-879e-a8cd0247ec24",
     "regions": {
      "138f9b24-aa63-4404-8355-7fa1b521d1a3": {
       "attrs": {
        "height": 0.8,
        "width": 0.8,
        "x": 0.1,
        "y": 0.1
       },
       "content": {
        "cell": "a18acad0-1fb4-49c0-88cf-96eabe6108d6",
        "part": "whole"
       },
       "id": "138f9b24-aa63-4404-8355-7fa1b521d1a3"
      }
     }
    },
    "3ee94c23-ab32-4a21-986d-3424f959ec76": {
     "id": "3ee94c23-ab32-4a21-986d-3424f959ec76",
     "prev": "f9a0f168-4bd0-4d3d-a3a0-94bf9d315a53",
     "regions": {
      "e6e1cd6f-feee-474c-95a1-db79bd3f0df4": {
       "attrs": {
        "height": 0.8,
        "width": 0.8,
        "x": 0.1,
        "y": 0.1
       },
       "content": {
        "cell": "d5e4269a-96bc-4cf3-91ec-dbcb0b53d5bb",
        "part": "whole"
       },
       "id": "e6e1cd6f-feee-474c-95a1-db79bd3f0df4"
      }
     }
    },
    "42c6f80c-a9dc-4688-aff1-c4274dde0a61": {
     "id": "42c6f80c-a9dc-4688-aff1-c4274dde0a61",
     "prev": "8cd4792a-bf0f-42b8-9873-8a6fc02c13e7",
     "regions": {
      "ffe99649-24fd-47dc-987a-6230384fd500": {
       "attrs": {
        "height": 0.8,
        "width": 0.8,
        "x": 0.1,
        "y": 0.1
       },
       "content": {
        "cell": "d1b9fb7a-f755-4ccd-bf39-bd61104896ec",
        "part": "whole"
       },
       "id": "ffe99649-24fd-47dc-987a-6230384fd500"
      }
     }
    },
    "53b7fb2a-e056-48dc-a4ac-a718bf3e2972": {
     "id": "53b7fb2a-e056-48dc-a4ac-a718bf3e2972",
     "prev": "d653dab0-30f0-4560-bd15-e9ce7a795671",
     "regions": {
      "ec417c9c-695b-4659-8610-ea5387c29dd8": {
       "attrs": {
        "height": 0.8,
        "width": 0.8,
        "x": 0.1,
        "y": 0.1
       },
       "content": {
        "cell": "a547cb65-dda3-4890-a1d6-e42b313c8b76",
        "part": "whole"
       },
       "id": "ec417c9c-695b-4659-8610-ea5387c29dd8"
      }
     }
    },
    "5ba7e1f4-fa5f-4442-b0cb-b12203546033": {
     "id": "5ba7e1f4-fa5f-4442-b0cb-b12203546033",
     "prev": "53b7fb2a-e056-48dc-a4ac-a718bf3e2972",
     "regions": {
      "68b2f690-8899-4fde-880a-30e12c269ef7": {
       "attrs": {
        "height": 0.8,
        "width": 0.8,
        "x": 0.1,
        "y": 0.1
       },
       "content": {
        "cell": "c6fc96e9-8692-4cc1-9c6c-8977e3e5f8f0",
        "part": "whole"
       },
       "id": "68b2f690-8899-4fde-880a-30e12c269ef7"
      }
     }
    },
    "6a6bdaa8-547a-4392-8794-548069a88f33": {
     "id": "6a6bdaa8-547a-4392-8794-548069a88f33",
     "prev": "6c3a8b8f-743b-4740-b763-ac0188a31ddc",
     "regions": {
      "31ac10bb-7f48-49a1-8b99-3281800aa8f0": {
       "attrs": {
        "height": 0.8,
        "width": 0.8,
        "x": 0.1,
        "y": 0.1
       },
       "content": {
        "cell": "297b94b4-c3ef-4784-922c-911b1d07396e",
        "part": "whole"
       },
       "id": "31ac10bb-7f48-49a1-8b99-3281800aa8f0"
      }
     }
    },
    "6c3a8b8f-743b-4740-b763-ac0188a31ddc": {
     "id": "6c3a8b8f-743b-4740-b763-ac0188a31ddc",
     "prev": "1643332c-e86e-4299-a693-6237916ef8ef",
     "regions": {
      "93e3bc0f-652e-4a6b-aa30-92c14cdcf401": {
       "attrs": {
        "height": 0.8,
        "width": 0.8,
        "x": 0.1,
        "y": 0.1
       },
       "content": {
        "cell": "94a7f778-c23b-4c4e-be46-24bd27150104",
        "part": "whole"
       },
       "id": "93e3bc0f-652e-4a6b-aa30-92c14cdcf401"
      }
     }
    },
    "6f036721-3878-4944-8ef6-bbe74daff2cd": {
     "id": "6f036721-3878-4944-8ef6-bbe74daff2cd",
     "prev": "29be77aa-2e95-4904-82f6-1c41e76dffff",
     "regions": {
      "bec6c368-b221-43b8-8065-73c0a1c7a78e": {
       "attrs": {
        "height": 0.8,
        "width": 0.8,
        "x": 0.1,
        "y": 0.1
       },
       "content": {
        "cell": "02be2828-dfe5-480b-bb2d-50b039131dc5",
        "part": "whole"
       },
       "id": "bec6c368-b221-43b8-8065-73c0a1c7a78e"
      }
     }
    },
    "76c9ca27-af7d-40a2-8295-2c534425dc59": {
     "id": "76c9ca27-af7d-40a2-8295-2c534425dc59",
     "prev": "6a6bdaa8-547a-4392-8794-548069a88f33",
     "regions": {
      "43be5c0d-3252-48c5-b337-8c117dc82457": {
       "attrs": {
        "height": 0.8,
        "width": 0.8,
        "x": 0.1,
        "y": 0.1
       },
       "content": {
        "cell": "daa06c04-ed79-488c-8d86-518d8f843cf0",
        "part": "whole"
       },
       "id": "43be5c0d-3252-48c5-b337-8c117dc82457"
      }
     }
    },
    "7b3aadc0-2cc5-4b17-835f-6114ee8b3bd0": {
     "id": "7b3aadc0-2cc5-4b17-835f-6114ee8b3bd0",
     "prev": "0d61e829-4aa8-4825-982e-7a3a681f9361",
     "regions": {
      "9b5be251-fb29-4986-8158-2fb7c2b8b5f5": {
       "attrs": {
        "height": 0.8,
        "width": 0.8,
        "x": 0.1,
        "y": 0.1
       },
       "content": {
        "cell": "b40ce054-8dfe-400c-9b81-3d016945ec6b",
        "part": "whole"
       },
       "id": "9b5be251-fb29-4986-8158-2fb7c2b8b5f5"
      }
     }
    },
    "7f86b758-4ee8-4618-954e-0df473343e75": {
     "id": "7f86b758-4ee8-4618-954e-0df473343e75",
     "prev": "34012049-8ffb-486a-b50f-f5659697c2f5",
     "regions": {
      "49353962-a10b-4650-b888-1ea480560660": {
       "attrs": {
        "height": 0.8,
        "width": 0.8,
        "x": 0.1,
        "y": 0.1
       },
       "content": {
        "cell": "7e36c857-d692-485b-802e-4fdaee248223",
        "part": "whole"
       },
       "id": "49353962-a10b-4650-b888-1ea480560660"
      }
     }
    },
    "87c97a93-492d-4ea7-b65e-ed74e6fd07f6": {
     "id": "87c97a93-492d-4ea7-b65e-ed74e6fd07f6",
     "prev": "da820aa7-2695-45de-a262-2100ec38c35f",
     "regions": {
      "e2709064-ac68-40aa-8723-038b4370502d": {
       "attrs": {
        "height": 0.8,
        "width": 0.8,
        "x": 0.1,
        "y": 0.1
       },
       "content": {
        "cell": "f4a391d0-9c56-4568-a5b3-e871c0b09ddb",
        "part": "whole"
       },
       "id": "e2709064-ac68-40aa-8723-038b4370502d"
      }
     }
    },
    "89b89e2c-e82a-4609-b609-3073b30516c7": {
     "id": "89b89e2c-e82a-4609-b609-3073b30516c7",
     "prev": "7f86b758-4ee8-4618-954e-0df473343e75",
     "regions": {
      "34dc1ff1-2182-4dd5-a599-7ad18cb7cdc0": {
       "attrs": {
        "height": 0.8,
        "width": 0.8,
        "x": 0.1,
        "y": 0.1
       },
       "content": {
        "cell": "6ad3e3dd-16e3-4acb-aa1f-b409a7cbe0de",
        "part": "whole"
       },
       "id": "34dc1ff1-2182-4dd5-a599-7ad18cb7cdc0"
      }
     }
    },
    "8cd4792a-bf0f-42b8-9873-8a6fc02c13e7": {
     "id": "8cd4792a-bf0f-42b8-9873-8a6fc02c13e7",
     "prev": "6f036721-3878-4944-8ef6-bbe74daff2cd",
     "regions": {
      "7f9088c4-b5a9-48bb-9d9c-114d4a5ec96e": {
       "attrs": {
        "height": 0.8,
        "width": 0.8,
        "x": 0.1,
        "y": 0.1
       },
       "content": {
        "cell": "fdec3072-61de-4e47-8968-225f2d75acc7",
        "part": "whole"
       },
       "id": "7f9088c4-b5a9-48bb-9d9c-114d4a5ec96e"
      }
     }
    },
    "9447ebb9-a23e-4da8-beba-8abf6eba0a10": {
     "id": "9447ebb9-a23e-4da8-beba-8abf6eba0a10",
     "prev": "2a8617e7-891f-48dd-a941-72c8278061e1",
     "regions": {
      "04dd362b-e754-4435-a120-a45dd5e8130d": {
       "attrs": {
        "height": 0.8,
        "width": 0.8,
        "x": 0.1,
        "y": 0.1
       },
       "content": {
        "cell": "4f8e969a-450f-47b1-8d7b-32a24a84d93c",
        "part": "whole"
       },
       "id": "04dd362b-e754-4435-a120-a45dd5e8130d"
      }
     }
    },
    "b221f7b7-6283-411c-ac1b-628c1988644d": {
     "id": "b221f7b7-6283-411c-ac1b-628c1988644d",
     "prev": "dfb11208-2789-44cd-9b57-b16b8bc2cc0f",
     "regions": {
      "6a63a01c-600c-4082-a972-4b3da68ace34": {
       "attrs": {
        "height": 0.8,
        "width": 0.8,
        "x": 0.1,
        "y": 0.1
       },
       "content": {
        "cell": "40a4e9c5-b743-4277-a2cd-a55f0c3bad85",
        "part": "whole"
       },
       "id": "6a63a01c-600c-4082-a972-4b3da68ace34"
      }
     }
    },
    "b866306c-703a-47bd-aeee-b527dbda1162": {
     "id": "b866306c-703a-47bd-aeee-b527dbda1162",
     "prev": "257b6241-d04f-4c66-9545-31f8b9c3b468",
     "regions": {
      "5b6b9711-3ed1-4199-b5b3-2f03fa09121c": {
       "attrs": {
        "height": 0.8,
        "width": 0.8,
        "x": 0.1,
        "y": 0.1
       },
       "content": {
        "cell": "3774db09-cb03-4491-b920-be1d7af97e2a",
        "part": "whole"
       },
       "id": "5b6b9711-3ed1-4199-b5b3-2f03fa09121c"
      }
     }
    },
    "b9caddf1-c29b-4532-9d9d-a03e65ca6c51": {
     "id": "b9caddf1-c29b-4532-9d9d-a03e65ca6c51",
     "prev": "0f089341-0c6a-45a6-8ba9-47c04e480849",
     "regions": {
      "ae76f46b-7b8b-4346-9e79-f1ca7325eae1": {
       "attrs": {
        "height": 0.8,
        "width": 0.8,
        "x": 0.1,
        "y": 0.1
       },
       "content": {
        "cell": "4ca49aed-7b3c-444a-9333-db88fce1e481",
        "part": "whole"
       },
       "id": "ae76f46b-7b8b-4346-9e79-f1ca7325eae1"
      }
     }
    },
    "d0037263-c1d7-467a-94e7-b454cf9dc12c": {
     "id": "d0037263-c1d7-467a-94e7-b454cf9dc12c",
     "prev": "1f2f6998-5ec7-4e19-aee7-75b9f1e84817",
     "regions": {
      "dd66a984-f399-46b2-8f6f-baa7ad8e9613": {
       "attrs": {
        "height": 0.8,
        "width": 0.8,
        "x": 0.1,
        "y": 0.1
       },
       "content": {
        "cell": "25117581-af05-4e64-b31e-7e53003186d8",
        "part": "whole"
       },
       "id": "dd66a984-f399-46b2-8f6f-baa7ad8e9613"
      }
     }
    },
    "d653dab0-30f0-4560-bd15-e9ce7a795671": {
     "id": "d653dab0-30f0-4560-bd15-e9ce7a795671",
     "prev": "87c97a93-492d-4ea7-b65e-ed74e6fd07f6",
     "regions": {
      "2b276b51-66b3-42d4-8d13-f784741054bf": {
       "attrs": {
        "height": 0.8,
        "width": 0.8,
        "x": 0.1,
        "y": 0.1
       },
       "content": {
        "cell": "79f5095f-fb0b-4387-a500-811726c975ff",
        "part": "whole"
       },
       "id": "2b276b51-66b3-42d4-8d13-f784741054bf"
      }
     }
    },
    "da820aa7-2695-45de-a262-2100ec38c35f": {
     "id": "da820aa7-2695-45de-a262-2100ec38c35f",
     "prev": "3a9e736a-49ba-413a-bd23-df01fb41fcf1",
     "regions": {
      "e678bcc9-d9f2-40cb-b7d8-a4e4cbe1f07c": {
       "attrs": {
        "height": 0.8,
        "width": 0.8,
        "x": 0.1,
        "y": 0.1
       },
       "content": {
        "cell": "527d096d-2ffc-417a-9741-e1e36d1cbc30",
        "part": "whole"
       },
       "id": "e678bcc9-d9f2-40cb-b7d8-a4e4cbe1f07c"
      }
     }
    },
    "dfb11208-2789-44cd-9b57-b16b8bc2cc0f": {
     "id": "dfb11208-2789-44cd-9b57-b16b8bc2cc0f",
     "prev": "7b3aadc0-2cc5-4b17-835f-6114ee8b3bd0",
     "regions": {
      "636908ba-4ad2-44a9-8718-baee0250ec4f": {
       "attrs": {
        "height": 0.8,
        "width": 0.8,
        "x": 0.1,
        "y": 0.1
       },
       "content": {
        "cell": "352dfbf8-1a89-4a0a-97b6-b63cc00792b7",
        "part": "whole"
       },
       "id": "636908ba-4ad2-44a9-8718-baee0250ec4f"
      }
     }
    },
    "efc1747f-03c3-4fb1-9a1c-81601e08b6d4": {
     "id": "efc1747f-03c3-4fb1-9a1c-81601e08b6d4",
     "prev": "5ba7e1f4-fa5f-4442-b0cb-b12203546033",
     "regions": {
      "b9c5a83c-f7f8-4783-b02b-d087c9031793": {
       "attrs": {
        "height": 0.8,
        "width": 0.8,
        "x": 0.1,
        "y": 0.1
       },
       "content": {
        "cell": "a3e7a4e7-5db4-4a0f-85ca-b2ecc03866e7",
        "part": "whole"
       },
       "id": "b9c5a83c-f7f8-4783-b02b-d087c9031793"
      }
     }
    },
    "f9a0f168-4bd0-4d3d-a3a0-94bf9d315a53": {
     "id": "f9a0f168-4bd0-4d3d-a3a0-94bf9d315a53",
     "prev": "9447ebb9-a23e-4da8-beba-8abf6eba0a10",
     "regions": {
      "3f3d6585-8c69-4a9c-8d68-4783a78ce205": {
       "attrs": {
        "height": 0.8,
        "width": 0.8,
        "x": 0.1,
        "y": 0.1
       },
       "content": {
        "cell": "c71c763a-f81e-40d0-addf-9e368e6f5774",
        "part": "whole"
       },
       "id": "3f3d6585-8c69-4a9c-8d68-4783a78ce205"
      }
     }
    },
    "f9eed5e3-5921-47cb-bc54-8cfb539ff997": {
     "id": "f9eed5e3-5921-47cb-bc54-8cfb539ff997",
     "prev": "3ec29cb2-9a49-40cd-a229-bba519141d6f",
     "regions": {
      "772ef4c8-c5af-407e-bbaf-e50d68cba776": {
       "attrs": {
        "height": 0.8,
        "width": 0.8,
        "x": 0.1,
        "y": 0.1
       },
       "content": {
        "cell": "2feeafa7-380e-4d53-a0c1-1e68d6c8e809",
        "part": "whole"
       },
       "id": "772ef4c8-c5af-407e-bbaf-e50d68cba776"
      }
     }
    }
   },
   "themes": {}
  }
 },
 "nbformat": 4,
 "nbformat_minor": 2
}
